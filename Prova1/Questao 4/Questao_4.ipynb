{
 "cells": [
  {
   "cell_type": "code",
   "execution_count": 1,
   "metadata": {
    "colab": {
     "base_uri": "https://localhost:8080/",
     "height": 373
    },
    "id": "0hQMoxwKkedV",
    "outputId": "284fd78f-4716-42de-aadd-6b452acad2f1"
   },
   "outputs": [
    {
     "name": "stdout",
     "output_type": "stream",
     "text": [
      "Arranjo não ordenado:  [0, 6, 5, 8, 1, 9, 2, -1, -10, 7]\n"
     ]
    },
    {
     "ename": "NameError",
     "evalue": "ignored",
     "output_type": "error",
     "traceback": [
      "\u001b[0;31m---------------------------------------------------------------------------\u001b[0m",
      "\u001b[0;31mNameError\u001b[0m                                 Traceback (most recent call last)",
      "\u001b[0;32m<ipython-input-1-97e748b25fb2>\u001b[0m in \u001b[0;36m<module>\u001b[0;34m()\u001b[0m\n\u001b[1;32m     24\u001b[0m \u001b[0mA\u001b[0m \u001b[0;34m=\u001b[0m \u001b[0mrandom\u001b[0m\u001b[0;34m.\u001b[0m\u001b[0msample\u001b[0m\u001b[0;34m(\u001b[0m\u001b[0mrange\u001b[0m\u001b[0;34m(\u001b[0m\u001b[0;34m-\u001b[0m\u001b[0;36m10\u001b[0m\u001b[0;34m,\u001b[0m \u001b[0;36m10\u001b[0m\u001b[0;34m)\u001b[0m\u001b[0;34m,\u001b[0m \u001b[0;36m10\u001b[0m\u001b[0;34m)\u001b[0m\u001b[0;34m\u001b[0m\u001b[0;34m\u001b[0m\u001b[0m\n\u001b[1;32m     25\u001b[0m \u001b[0mprint\u001b[0m\u001b[0;34m(\u001b[0m\u001b[0;34m\"Arranjo não ordenado: \"\u001b[0m\u001b[0;34m,\u001b[0m \u001b[0mA\u001b[0m\u001b[0;34m)\u001b[0m\u001b[0;34m\u001b[0m\u001b[0;34m\u001b[0m\u001b[0m\n\u001b[0;32m---> 26\u001b[0;31m \u001b[0mordenacao_selecao\u001b[0m\u001b[0;34m(\u001b[0m\u001b[0mA\u001b[0m\u001b[0;34m)\u001b[0m\u001b[0;34m\u001b[0m\u001b[0;34m\u001b[0m\u001b[0m\n\u001b[0m\u001b[1;32m     27\u001b[0m \u001b[0mprint\u001b[0m\u001b[0;34m(\u001b[0m\u001b[0;34m\"Arranjo ordenado:\"\u001b[0m\u001b[0;34m,\u001b[0m \u001b[0mA\u001b[0m\u001b[0;34m)\u001b[0m\u001b[0;34m\u001b[0m\u001b[0;34m\u001b[0m\u001b[0m\n",
      "\u001b[0;32m<ipython-input-1-97e748b25fb2>\u001b[0m in \u001b[0;36mordenacao_selecao\u001b[0;34m(A)\u001b[0m\n\u001b[1;32m      7\u001b[0m     \u001b[0mcont\u001b[0m \u001b[0;34m=\u001b[0m \u001b[0;36m0\u001b[0m\u001b[0;34m\u001b[0m\u001b[0;34m\u001b[0m\u001b[0m\n\u001b[1;32m      8\u001b[0m     \u001b[0;32mwhile\u001b[0m \u001b[0;32mTrue\u001b[0m\u001b[0;34m:\u001b[0m\u001b[0;34m\u001b[0m\u001b[0;34m\u001b[0m\u001b[0m\n\u001b[0;32m----> 9\u001b[0;31m         \u001b[0;32mif\u001b[0m \u001b[0mA\u001b[0m\u001b[0;34m[\u001b[0m\u001b[0mcont\u001b[0m\u001b[0;34m]\u001b[0m \u001b[0;34m==\u001b[0m \u001b[0mnull\u001b[0m\u001b[0;34m:\u001b[0m\u001b[0;34m\u001b[0m\u001b[0;34m\u001b[0m\u001b[0m\n\u001b[0m\u001b[1;32m     10\u001b[0m             \u001b[0mn\u001b[0m \u001b[0;34m=\u001b[0m \u001b[0mcont\u001b[0m\u001b[0;34m\u001b[0m\u001b[0;34m\u001b[0m\u001b[0m\n\u001b[1;32m     11\u001b[0m \u001b[0;34m\u001b[0m\u001b[0m\n",
      "\u001b[0;31mNameError\u001b[0m: name 'null' is not defined"
     ]
    }
   ],
   "source": [
    "\"\"\"\n",
    "     Codigo original\n",
    "\"\"\"\n",
    "import random\n",
    "def ordenacao_selecao(A):\n",
    "    # Verificar o tamanho dinamicamente do vetor A.\n",
    "    cont = 0\n",
    "    while True:\n",
    "        if A[cont] == null:\n",
    "            n = cont\n",
    "    \n",
    "    # Percorre o arranjo A.\n",
    "    for i in range(n):\n",
    "        # Encontra o elemento mínimo em A.\n",
    "        minimo = i\n",
    "        for j in range(i + 1, n):\n",
    "            if A[minimo] > A[j]:\n",
    "                minimo = j\n",
    "\n",
    "        # Coloca o elemento mínimo na posição correta.\n",
    "        A[i], A[minimo] = A[minimo], A[i]\n",
    "        #???? (como posso colocar ele na posição correta para a saída?)\n",
    "\n",
    "A = random.sample(range(-10, 10), 10)\n",
    "print(\"Arranjo não ordenado: \", A)\n",
    "ordenacao_selecao(A)\n",
    "print(\"Arranjo ordenado:\", A)"
   ]
  },
  {
   "cell_type": "markdown",
   "metadata": {
    "id": "2elDJEUXlESM"
   },
   "source": [
    "#A) Explique qual foi o erro e corrija o código para o colega.\n",
    "- Loop While: linha 6 - Algumas sugestões\n",
    "  - A palavra \"null\"  não é definida na sintaxe do Python, em outras linguagens faz referência ao inteiro Zero. Uma alteranativa é utilizar o None\n",
    "  - O loop não tem condição de saída, muito menos instrução de parada como Break\n",
    "  - \"cont\" não incrementa, isso faz com que apenas o primeiro elemento do vetor seja verificado\n",
    "  - Quando \"cont\" tentar acessar um indice inválido será gerado um excpetion, pois está tentando acessar um valor inválido de memória. Logo, não há segurança em extrapolar o indice de um array e esperar que ele retorne Nulo, Vazio ou None. (A não ser que haja alguma atualizaçao/implementação em alto nível na engine do Python)"
   ]
  },
  {
   "cell_type": "markdown",
   "metadata": {
    "id": "tU7RVnE_ohxd"
   },
   "source": [
    "# Recomendação de alteração do Código"
   ]
  },
  {
   "cell_type": "code",
   "execution_count": 8,
   "metadata": {
    "colab": {
     "base_uri": "https://localhost:8080/"
    },
    "id": "P2PdVWEPCHli",
    "outputId": "ea50acd6-0c26-4910-d949-a43a7acf208b"
   },
   "outputs": [
    {
     "name": "stdout",
     "output_type": "stream",
     "text": [
      "Arranjo não ordenado:  [1, 9, -8, -9, -7, -4, 4, 8, 3, -3]\n",
      "Arranjo ordenado: [-9, -8, -7, -4, -3, 1, 3, 4, 8, 9]\n"
     ]
    }
   ],
   "source": [
    "import random\n",
    "def ordenacao_selecao(A):\n",
    "    # Verificar o tamanho dinamicamente do vetor A.\n",
    "    n = len(A) \n",
    "    \n",
    "    # Percorre o arranjo A.\n",
    "    for i in range(n):\n",
    "        # Encontra o elemento mínimo em A.\n",
    "        minimo = i\n",
    "        for j in range(i + 1, n):\n",
    "            if A[minimo] > A[j]:\n",
    "                minimo = j\n",
    "\n",
    "        # Coloca o elemento mínimo na posição correta.\n",
    "        A[i], A[minimo] = A[minimo], A[i]\n",
    "        #???? (como posso colocar ele na posição correta para a saída?)\n",
    "\n",
    "A = random.sample(range(-10, 10), 10)\n",
    "print(\"Arranjo não ordenado: \", A)\n",
    "ordenacao_selecao(A)\n",
    "print(\"Arranjo ordenado:\", A)"
   ]
  },
  {
   "cell_type": "markdown",
   "metadata": {
    "id": "BwXecbyUDEgY"
   },
   "source": [
    "# B) Como você estava aprendendo sobre gráficos, plotou os valores em um gráfico de barras para mostrar ambas as barras uma desordenada e outra ordenada."
   ]
  },
  {
   "cell_type": "code",
   "execution_count": 68,
   "metadata": {
    "colab": {
     "base_uri": "https://localhost:8080/",
     "height": 281
    },
    "id": "3Dwj9xbIDZ0A",
    "outputId": "d1fdf4a6-215c-449c-c65e-99cc5b11a64d"
   },
   "outputs": [
    {
     "data": {
      "image/png": "[encoded data removed]",
      "text/plain": [
       "<Figure size 432x288 with 2 Axes>"
      ]
     },
     "metadata": {
      "needs_background": "light"
     },
     "output_type": "display_data"
    }
   ],
   "source": [
    "import matplotlib.pyplot as plt\n",
    "A = random.sample(range(-10, 10), 10)\n",
    "B = A.copy()\n",
    "ordenacao_selecao(B)\n",
    "#print(\"valores de A\",A)\n",
    "#print(\"valores de B\",B)\n",
    "x = [i+1 for i,ii in enumerate(B)]\n",
    "#print(\"Indice: \",x)\n",
    "\n",
    " \n",
    "fig = plt.figure()\n",
    "fig.subplots_adjust(  wspace=1)\n",
    " \n",
    "axa = fig.add_subplot(1, 2, 1)\n",
    "axa.bar(x,A)\n",
    "axa.set_title(\"Elementos não ordenados\")\n",
    "\n",
    "axB = fig.add_subplot(1, 2, 2)\n",
    "axB.bar(x,B)\n",
    "axB.set_title(\"Elementos ordenados\")\n",
    "\n",
    "plt.show()\n"
   ]
  },
  {
   "cell_type": "code",
   "execution_count": null,
   "metadata": {
    "id": "8Oll8DXTsD2e"
   },
   "outputs": [],
   "source": []
  }
 ],
 "metadata": {
  "colab": {
   "collapsed_sections": [],
   "name": "Questao 4.ipynb",
   "provenance": []
  },
  "kernelspec": {
   "display_name": "Python 3 (ipykernel)",
   "language": "python",
   "name": "python3"
  },
  "language_info": {
   "codemirror_mode": {
    "name": "ipython",
    "version": 3
   },
   "file_extension": ".py",
   "mimetype": "text/x-python",
   "name": "python",
   "nbconvert_exporter": "python",
   "pygments_lexer": "ipython3",
   "version": "3.10.5"
  }
 },
 "nbformat": 4,
 "nbformat_minor": 1
}
