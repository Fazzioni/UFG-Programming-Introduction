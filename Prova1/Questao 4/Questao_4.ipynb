{
 "cells": [
  {
   "cell_type": "code",
   "execution_count": 2,
   "metadata": {
    "colab": {
     "base_uri": "https://localhost:8080/"
    },
    "id": "0hQMoxwKkedV",
    "outputId": "a23ff2bb-81ec-4ca4-b5e1-dc6677cec245"
   },
   "outputs": [
    {
     "name": "stdout",
     "output_type": "stream",
     "text": [
      "Arranjo não ordenado:  [-9, 7, -3, -5, -6, 2, 0, -4, -2, -10]\n"
     ]
    },
    {
     "ename": "NameError",
     "evalue": "name 'null' is not defined",
     "output_type": "error",
     "traceback": [
      "\u001b[0;31m---------------------------------------------------------------------------\u001b[0m",
      "\u001b[0;31mNameError\u001b[0m                                 Traceback (most recent call last)",
      "Input \u001b[0;32mIn [2]\u001b[0m, in \u001b[0;36m<cell line: 26>\u001b[0;34m()\u001b[0m\n\u001b[1;32m     24\u001b[0m A \u001b[38;5;241m=\u001b[39m random\u001b[38;5;241m.\u001b[39msample(\u001b[38;5;28mrange\u001b[39m(\u001b[38;5;241m-\u001b[39m\u001b[38;5;241m10\u001b[39m, \u001b[38;5;241m10\u001b[39m), \u001b[38;5;241m10\u001b[39m)\n\u001b[1;32m     25\u001b[0m \u001b[38;5;28mprint\u001b[39m(\u001b[38;5;124m\"\u001b[39m\u001b[38;5;124mArranjo não ordenado: \u001b[39m\u001b[38;5;124m\"\u001b[39m, A)\n\u001b[0;32m---> 26\u001b[0m \u001b[43mordenacao_selecao\u001b[49m\u001b[43m(\u001b[49m\u001b[43mA\u001b[49m\u001b[43m)\u001b[49m\n\u001b[1;32m     27\u001b[0m \u001b[38;5;28mprint\u001b[39m(\u001b[38;5;124m\"\u001b[39m\u001b[38;5;124mArranjo ordenado:\u001b[39m\u001b[38;5;124m\"\u001b[39m, A)\n",
      "Input \u001b[0;32mIn [2]\u001b[0m, in \u001b[0;36mordenacao_selecao\u001b[0;34m(A)\u001b[0m\n\u001b[1;32m      7\u001b[0m cont \u001b[38;5;241m=\u001b[39m \u001b[38;5;241m0\u001b[39m\n\u001b[1;32m      8\u001b[0m \u001b[38;5;28;01mwhile\u001b[39;00m \u001b[38;5;28;01mTrue\u001b[39;00m:\n\u001b[0;32m----> 9\u001b[0m     \u001b[38;5;28;01mif\u001b[39;00m A[cont] \u001b[38;5;241m==\u001b[39m \u001b[43mnull\u001b[49m:\n\u001b[1;32m     10\u001b[0m         n \u001b[38;5;241m=\u001b[39m cont\n\u001b[1;32m     12\u001b[0m \u001b[38;5;66;03m# Percorre o arranjo A.\u001b[39;00m\n",
      "\u001b[0;31mNameError\u001b[0m: name 'null' is not defined"
     ]
    }
   ],
   "source": [
    "\"\"\"\n",
    "     Codigo original\n",
    "\"\"\"\n",
    "import random\n",
    "def ordenacao_selecao(A):\n",
    "    # Verificar o tamanho dinamicamente do vetor A.\n",
    "    cont = 0\n",
    "    while True:\n",
    "        if A[cont] == null:\n",
    "            n = cont\n",
    "    \n",
    "    # Percorre o arranjo A.\n",
    "    for i in range(n):\n",
    "        # Encontra o elemento mínimo em A.\n",
    "        minimo = i\n",
    "        for j in range(i + 1, n):\n",
    "            if A[minimo] > A[j]:\n",
    "                minimo = j\n",
    "\n",
    "        # Coloca o elemento mínimo na posição correta.\n",
    "        A[i], A[minimo] = A[minimo], A[i]\n",
    "        #???? (como posso colocar ele na posição correta para a saída?)\n",
    "\n",
    "A = random.sample(range(-10, 10), 10)\n",
    "print(\"Arranjo não ordenado: \", A)\n",
    "ordenacao_selecao(A)\n",
    "print(\"Arranjo ordenado:\", A)"
   ]
  },
  {
   "cell_type": "markdown",
   "metadata": {
    "id": "2elDJEUXlESM"
   },
   "source": [
    "#A) Explique qual foi o erro e corrija o código para o colega.\n",
    "- Loop While: linha 6 - Algumas sugestões\n",
    "  - A palavra \"null\"  não é definida na sintaxe do Python, em outras linguagens faz referência ao inteiro Zero. Uma alteranativa é utilizar o None\n",
    "  - O loop não tem condição de saída, muito menos instrução de parada como Break\n",
    "  - \"cont\" não incrementa, isso faz com que apenas o primeiro elemento do vetor seja verificado\n",
    "  - Quando \"cont\" tentar acessar um indice inválido será gerado um excpetion, pois está tentando acessar um valor inválido de memória. Logo, não há segurança em extrapolar o indice de um array e esperar que ele retorne Nulo, Vazio ou None. (A não ser que haja alguma atualizaçao/implementação em alto nível na engine do Python)"
   ]
  },
  {
   "cell_type": "markdown",
   "metadata": {
    "id": "tU7RVnE_ohxd"
   },
   "source": [
    "# Recomendação de alteração do Código"
   ]
  },
  {
   "cell_type": "code",
   "execution_count": 3,
   "metadata": {
    "colab": {
     "base_uri": "https://localhost:8080/"
    },
    "id": "P2PdVWEPCHli",
    "outputId": "293b0ab3-a819-4009-8974-022250be8450"
   },
   "outputs": [
    {
     "name": "stdout",
     "output_type": "stream",
     "text": [
      "Arranjo não ordenado:  [2, -3, -6, 9, 5, -4, -1, 7, 1, 4]\n",
      "Arranjo ordenado: [-6, -4, -3, -1, 1, 2, 4, 5, 7, 9]\n"
     ]
    }
   ],
   "source": [
    "import random\n",
    "def ordenacao_selecao(A):\n",
    "    # Verificar o tamanho dinamicamente do vetor A.\n",
    "    n = len(A) \n",
    "    \n",
    "    # Percorre o arranjo A.\n",
    "    for i in range(n):\n",
    "        # Encontra o elemento mínimo em A.\n",
    "        minimo = i\n",
    "        for j in range(i + 1, n):\n",
    "            if A[minimo] > A[j]:\n",
    "                minimo = j\n",
    "\n",
    "        # Coloca o elemento mínimo na posição correta.\n",
    "        A[i], A[minimo] = A[minimo], A[i]\n",
    "        #???? (como posso colocar ele na posição correta para a saída?)\n",
    "\n",
    "A = random.sample(range(-10, 10), 10)\n",
    "print(\"Arranjo não ordenado: \", A)\n",
    "ordenacao_selecao(A)\n",
    "print(\"Arranjo ordenado:\", A)"
   ]
  },
  {
   "cell_type": "markdown",
   "metadata": {
    "id": "BwXecbyUDEgY"
   },
   "source": [
    "# B) Como você estava aprendendo sobre gráficos, plotou os valores em um gráfico de barras para mostrar ambas as barras uma desordenada e outra ordenada."
   ]
  },
  {
   "cell_type": "code",
   "execution_count": 11,
   "metadata": {},
   "outputs": [
    {
     "name": "stdout",
     "output_type": "stream",
     "text": [
      "Arranjo não ordenado:  [8, 4, -7, 3, -6, -9, -2, -8, -5, 0]\n",
      "Arranjo ordenado: [-9, -8, -7, -6, -5, -2, 0, 3, 4, 8]\n"
     ]
    }
   ],
   "source": [
    "A = random.sample(range(-10, 10), 10)\n",
    "print(\"Arranjo não ordenado: \", A)\n",
    "B = A.copy()\n",
    "ordenacao_selecao(B)\n",
    "print(\"Arranjo ordenado:\", B)"
   ]
  },
  {
   "cell_type": "code",
   "execution_count": 12,
   "metadata": {
    "colab": {
     "base_uri": "https://localhost:8080/"
    },
    "id": "3Dwj9xbIDZ0A",
    "outputId": "17c1ff80-576b-4713-8d84-f38ff6fc06a3"
   },
   "outputs": [
    {
     "data": {
      "image/png": "[encoded data removed]",
      "text/plain": [
       "<Figure size 432x288 with 1 Axes>"
      ]
     },
     "metadata": {
      "needs_background": "light"
     },
     "output_type": "display_data"
    }
   ],
   "source": [
    "import matplotlib.pyplot as plt\n",
    "x = [i+1 for i,ii in enumerate(B)]\n",
    "\n",
    "\n",
    "fig, ax = plt.subplots()\n",
    "ax.bar(x,A)\n",
    "ax.bar(x,B)\n",
    "plt.show()\n"
   ]
  },
  {
   "cell_type": "code",
   "execution_count": null,
   "metadata": {
    "id": "9oR2Zgt_DnHz"
   },
   "outputs": [],
   "source": []
  }
 ],
 "metadata": {
  "colab": {
   "collapsed_sections": [],
   "name": "Questao 4.ipynb",
   "provenance": []
  },
  "kernelspec": {
   "display_name": "Python 3 (ipykernel)",
   "language": "python",
   "name": "python3"
  },
  "language_info": {
   "codemirror_mode": {
    "name": "ipython",
    "version": 3
   },
   "file_extension": ".py",
   "mimetype": "text/x-python",
   "name": "python",
   "nbconvert_exporter": "python",
   "pygments_lexer": "ipython3",
   "version": "3.10.5"
  }
 },
 "nbformat": 4,
 "nbformat_minor": 1
}
